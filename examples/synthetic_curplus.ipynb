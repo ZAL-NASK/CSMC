{
 "cells": [
  {
   "cell_type": "markdown",
   "source": "CUR solver example.",
   "metadata": {
    "collapsed": false
   },
   "id": "d644eb264234fd0b"
  },
  {
   "cell_type": "code",
   "source": [
    "from tests.data_generation import create_rank_k_dataset, create_rank_k_tensor\n",
    "from csmc import CSMC, NuclearNormMin\n",
    "from csmc.errors.errors import approx_err\n",
    "import numpy as np\n",
    "\n",
    "n_rows = 100\n",
    "n_cols = 300\n",
    "rank = 5\n",
    "M, M_incomplete, omega, ok_mask = create_rank_k_dataset(n_rows=n_rows, n_cols=n_cols, k=rank,\n",
    "                                                        gaussian=True,\n",
    "                                                        fraction_missing=0.7)"
   ],
   "metadata": {
    "collapsed": true,
    "ExecuteTime": {
     "end_time": "2025-09-15T15:40:33.621399Z",
     "start_time": "2025-09-15T15:40:33.526090Z"
    }
   },
   "id": "initial_id",
   "outputs": [],
   "execution_count": 3
  },
  {
   "metadata": {
    "ExecuteTime": {
     "end_time": "2025-09-15T15:41:12.070534Z",
     "start_time": "2025-09-15T15:40:35.637843Z"
    }
   },
   "cell_type": "code",
   "source": [
    "from csmc.mc_sota.curplus import CUR\n",
    "solver = CUR(M_incomplete, col_number=100, rank=5)\n",
    "M_filled = solver.fit_transform(M_incomplete)\n",
    "approx_err(M_filled, M)"
   ],
   "id": "98649e4797f34ffd",
   "outputs": [
    {
     "data": {
      "text/plain": [
       "6.979009618846956e-06"
      ]
     },
     "execution_count": 4,
     "metadata": {},
     "output_type": "execute_result"
    }
   ],
   "execution_count": 4
  },
  {
   "metadata": {
    "ExecuteTime": {
     "end_time": "2025-09-15T15:50:16.785021Z",
     "start_time": "2025-09-15T15:43:20.530737Z"
    }
   },
   "cell_type": "code",
   "source": [
    "from csmc.mc_sota.curplus import CUR\n",
    "solver = CUR(M_incomplete, col_number=100, rank=100)\n",
    "M_filled = solver.fit_transform(M_incomplete)\n",
    "approx_err(M_filled, M)"
   ],
   "id": "40c3f48b6f65a11e",
   "outputs": [
    {
     "data": {
      "text/plain": [
       "0.3430909405544881"
      ]
     },
     "execution_count": 6,
     "metadata": {},
     "output_type": "execute_result"
    }
   ],
   "execution_count": 6
  }
 ],
 "metadata": {
  "kernelspec": {
   "display_name": "Python 3",
   "language": "python",
   "name": "python3"
  },
  "language_info": {
   "codemirror_mode": {
    "name": "ipython",
    "version": 2
   },
   "file_extension": ".py",
   "mimetype": "text/x-python",
   "name": "python",
   "nbconvert_exporter": "python",
   "pygments_lexer": "ipython2",
   "version": "2.7.6"
  }
 },
 "nbformat": 4,
 "nbformat_minor": 5
}
