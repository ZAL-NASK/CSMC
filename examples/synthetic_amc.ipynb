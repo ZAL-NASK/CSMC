{
 "cells": [
  {
   "cell_type": "markdown",
   "source": "Adaptive sampling examples.",
   "metadata": {
    "collapsed": false
   },
   "id": "d644eb264234fd0b"
  },
  {
   "cell_type": "code",
   "source": [
    "from tests.data_generation import create_rank_k_dataset, create_rank_k_tensor\n",
    "from csmc import CSMC, NuclearNormMin\n",
    "from csmc.errors.errors import approx_err\n",
    "import numpy as np\n",
    "\n",
    "n_rows = 100\n",
    "n_cols = 200\n",
    "rank = 5\n",
    "M, M_incomplete, omega, ok_mask = create_rank_k_dataset(n_rows=n_rows, n_cols=n_cols, k=rank,\n",
    "                                                        gaussian=True,\n",
    "                                                        fraction_missing=0.7)"
   ],
   "metadata": {
    "collapsed": true,
    "ExecuteTime": {
     "end_time": "2025-09-15T14:21:50.646950Z",
     "start_time": "2025-09-15T14:21:46.949613Z"
    }
   },
   "id": "initial_id",
   "outputs": [],
   "execution_count": 1
  },
  {
   "metadata": {
    "ExecuteTime": {
     "end_time": "2025-09-15T14:22:00.975552Z",
     "start_time": "2025-09-15T14:22:00.849767Z"
    }
   },
   "cell_type": "code",
   "source": [
    "from csmc.adaptive_mc.asmc import adaptive_mc\n",
    "\n",
    "M_filled, p_observation = adaptive_mc(M, 0.1)\n",
    "print(f\"Approximation error {np.linalg.norm(M - M_filled)}, probability of observation {p_observation}\")"
   ],
   "id": "1937cbd880407d81",
   "outputs": [
    {
     "name": "stdout",
     "output_type": "stream",
     "text": [
      "Approximation error 4.0704847748119246e-13, probability of observation 0.1175\n"
     ]
    }
   ],
   "execution_count": 2
  },
  {
   "metadata": {
    "ExecuteTime": {
     "end_time": "2025-09-15T14:22:20.401774Z",
     "start_time": "2025-09-15T14:22:05.059376Z"
    }
   },
   "cell_type": "code",
   "source": [
    "from csmc.adaptive_mc.mc2 import mc2\n",
    "\n",
    "M_filled = mc2(M_incomplete, M, rank+1)\n",
    "approx_err(M_filled, M)"
   ],
   "id": "6f1740630f23db1a",
   "outputs": [
    {
     "data": {
      "text/plain": [
       "5.378635848530329e-06"
      ]
     },
     "execution_count": 3,
     "metadata": {},
     "output_type": "execute_result"
    }
   ],
   "execution_count": 3
  }
 ],
 "metadata": {
  "kernelspec": {
   "display_name": "Python 3",
   "language": "python",
   "name": "python3"
  },
  "language_info": {
   "codemirror_mode": {
    "name": "ipython",
    "version": 2
   },
   "file_extension": ".py",
   "mimetype": "text/x-python",
   "name": "python",
   "nbconvert_exporter": "python",
   "pygments_lexer": "ipython2",
   "version": "2.7.6"
  }
 },
 "nbformat": 4,
 "nbformat_minor": 5
}
