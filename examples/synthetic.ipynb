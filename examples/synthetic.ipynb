{
 "cells": [
  {
   "cell_type": "markdown",
   "source": [
    "CSMC usage on the randomly generated matrices."
   ],
   "metadata": {
    "collapsed": false
   },
   "id": "d644eb264234fd0b"
  },
  {
   "cell_type": "code",
   "execution_count": 5,
   "outputs": [],
   "source": [
    "from tests.data_generation import create_rank_k_dataset, create_rank_k_tensor\n",
    "from csmc import CSMC, NuclearNormMin\n",
    "from csmc.errors.errors import approx_err\n",
    "import numpy as np\n",
    "\n",
    "n_rows = 360\n",
    "n_cols = 640\n",
    "rank = 10\n",
    "M, M_incomplete, omega, ok_mask = create_rank_k_dataset(n_rows=n_rows, n_cols=n_cols, k=rank,\n",
    "                                                        gaussian=True,\n",
    "                                                        fraction_missing=0.8)"
   ],
   "metadata": {
    "collapsed": true,
    "ExecuteTime": {
     "end_time": "2024-01-31T14:44:19.189407663Z",
     "start_time": "2024-01-31T14:44:18.845371347Z"
    }
   },
   "id": "initial_id"
  },
  {
   "cell_type": "markdown",
   "source": [
    "CSNN and NN methods usage. The nuclear norm minimization is solved with SCS solver."
   ],
   "metadata": {
    "collapsed": false
   },
   "id": "4013e17877d0440b"
  },
  {
   "cell_type": "code",
   "execution_count": 6,
   "outputs": [
    {
     "data": {
      "text/plain": "6.65356990015851e-06"
     },
     "execution_count": 6,
     "metadata": {},
     "output_type": "execute_result"
    }
   ],
   "source": [
    "solver = CSMC(M_incomplete, col_number=400)\n",
    "M_filled = solver.fit_transform(M_incomplete)\n",
    "approx_err(M_filled, M)"
   ],
   "metadata": {
    "collapsed": false,
    "ExecuteTime": {
     "end_time": "2024-01-31T14:46:57.063511445Z",
     "start_time": "2024-01-31T14:44:20.369657040Z"
    }
   },
   "id": "1a0e847879ed4dfc"
  },
  {
   "cell_type": "code",
   "execution_count": null,
   "outputs": [],
   "source": [
    "%%time\n",
    "solver = NuclearNormMin(M_incomplete)\n",
    "M_filled = solver.fit_transform(M_incomplete, missing_mask=np.isnan(M_incomplete))\n",
    "approx_err(M_filled, M)"
   ],
   "metadata": {
    "collapsed": false
   },
   "id": "f41250b13caf3e95"
  },
  {
   "cell_type": "code",
   "execution_count": 1,
   "outputs": [],
   "source": [
    "from tests.data_generation import create_rank_k_tensor\n",
    "import torch\n",
    "\n",
    "n_rows = 500\n",
    "n_cols = 5000\n",
    "rank = 5\n",
    "M, M_incomplete, omega, ok_mask = create_rank_k_tensor(n_rows=n_rows, n_cols=n_cols, k=rank,\n",
    "                                                        fraction_missing=0.8)\n",
    "\n",
    "\n",
    "_, sigma, _ = torch.linalg.svd(M)\n",
    "max_sigma = sigma[0]\n",
    "\n",
    "\n",
    "lambda_grid = torch.exp(torch.linspace(torch.log(torch.tensor(0.1)),torch.log(max_sigma) - 1, 8)) "
   ],
   "metadata": {
    "collapsed": false,
    "ExecuteTime": {
     "end_time": "2024-01-18T15:03:17.769237145Z",
     "start_time": "2024-01-18T15:03:16.140593275Z"
    }
   },
   "id": "f15a5b12892f704b"
  },
  {
   "cell_type": "code",
   "execution_count": null,
   "outputs": [],
   "source": [
    "from csmc import SoftImpute, CSMC\n",
    "import torch\n",
    "from csmc.errors.errors import approx_err\n",
    "\n",
    "smallest_error = None\n",
    "for l in lambda_grid:\n",
    "    solver = SoftImpute(M_incomplete, lambda_=l)\n",
    "    M_filled = solver.fit_transform(M_incomplete, torch.isnan(M_incomplete))\n",
    "    error = approx_err(M_filled, M)\n",
    "    print(f\"Approximation error {error} for l={l}\")\n",
    "    if smallest_error is None or error < smallest_error:\n",
    "        smallest_error = error\n",
    "        best_l = l\n",
    "        "
   ],
   "metadata": {
    "collapsed": false,
    "ExecuteTime": {
     "start_time": "2024-01-18T15:03:19.334700741Z"
    }
   },
   "id": "55e10a398e43047f"
  },
  {
   "cell_type": "code",
   "execution_count": 13,
   "outputs": [
    {
     "name": "stdout",
     "output_type": "stream",
     "text": [
      "CPU times: user 2min 2s, sys: 227 ms, total: 2min 2s\n",
      "Wall time: 15.7 s\n"
     ]
    },
    {
     "data": {
      "text/plain": "0.05543898"
     },
     "execution_count": 13,
     "metadata": {},
     "output_type": "execute_result"
    }
   ],
   "source": [
    "%%time\n",
    "from csmc import SoftImpute, CSMC\n",
    "\n",
    "from csmc.errors.errors import approx_err\n",
    "solver = CSMC(M_incomplete, solver=SoftImpute, col_number=500)\n",
    "M_filled = solver.fit_transform(M_incomplete)\n",
    "approx_err(M_filled, M)"
   ],
   "metadata": {
    "collapsed": false,
    "ExecuteTime": {
     "end_time": "2024-01-18T12:43:19.865660975Z",
     "start_time": "2024-01-18T12:43:04.195738865Z"
    }
   },
   "id": "3827503a77a1f11a"
  }
 ],
 "metadata": {
  "kernelspec": {
   "display_name": "Python 3",
   "language": "python",
   "name": "python3"
  },
  "language_info": {
   "codemirror_mode": {
    "name": "ipython",
    "version": 2
   },
   "file_extension": ".py",
   "mimetype": "text/x-python",
   "name": "python",
   "nbconvert_exporter": "python",
   "pygments_lexer": "ipython2",
   "version": "2.7.6"
  }
 },
 "nbformat": 4,
 "nbformat_minor": 5
}
