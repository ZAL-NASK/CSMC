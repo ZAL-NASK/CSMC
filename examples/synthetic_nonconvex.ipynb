{
 "cells": [
  {
   "metadata": {
    "ExecuteTime": {
     "end_time": "2025-09-25T11:22:08.027218Z",
     "start_time": "2025-09-25T11:22:04.011612Z"
    }
   },
   "cell_type": "code",
   "source": [
    "import numpy as np\n",
    "\n",
    "from csmc.errors.errors import approx_err\n",
    "from tests.data_generation import create_rank_k_dataset, set_seed\n",
    "\n",
    "set_seed(42)\n",
    "\n",
    "n_rows = 300\n",
    "n_cols = 1000\n",
    "rank = 10\n",
    "eta = 0.5\n",
    "M, M_incomplete_tmp, omega, ok_mask = create_rank_k_dataset(n_rows=n_rows, n_cols=n_cols, k=rank,\n",
    "                                                            gaussian=True,\n",
    "                                                            fraction_missing=0.8)\n",
    "\n"
   ],
   "id": "b486d620264904e9",
   "outputs": [],
   "execution_count": 1
  },
  {
   "metadata": {
    "ExecuteTime": {
     "end_time": "2025-09-25T11:22:10.880075Z",
     "start_time": "2025-09-25T11:22:09.560523Z"
    }
   },
   "cell_type": "code",
   "source": [
    "M_incomplete = np.copy(M_incomplete_tmp)\n",
    "from csmc.mc_sota.sgd import SGD\n",
    "\n",
    "solver = SGD(M_incomplete, stepsize=eta, rank=10)\n",
    "M_filled = solver.fit_transform(M_incomplete)\n",
    "approx_err(M_filled, M)"
   ],
   "id": "7e15d90156a933f0",
   "outputs": [
    {
     "data": {
      "text/plain": [
       "4.6036741669582265e-06"
      ]
     },
     "execution_count": 2,
     "metadata": {},
     "output_type": "execute_result"
    }
   ],
   "execution_count": 2
  },
  {
   "metadata": {
    "ExecuteTime": {
     "end_time": "2025-09-25T11:24:35.714012Z",
     "start_time": "2025-09-25T11:22:12.487352Z"
    }
   },
   "cell_type": "code",
   "source": [
    "M_incomplete = np.copy(M_incomplete_tmp)\n",
    "from csmc.mc_sota.svp import SVP\n",
    "\n",
    "solver = SVP(M_incomplete, max_iter=1000, rank=10)\n",
    "M_filled = solver.fit_transform(M_incomplete)\n",
    "approx_err(M_filled, M)"
   ],
   "id": "c4a0472bd8870a1d",
   "outputs": [
    {
     "data": {
      "text/plain": [
       "9.613844798033727e-05"
      ]
     },
     "execution_count": 3,
     "metadata": {},
     "output_type": "execute_result"
    }
   ],
   "execution_count": 3
  }
 ],
 "metadata": {
  "kernelspec": {
   "display_name": "Python 3",
   "language": "python",
   "name": "python3"
  },
  "language_info": {
   "codemirror_mode": {
    "name": "ipython",
    "version": 2
   },
   "file_extension": ".py",
   "mimetype": "text/x-python",
   "name": "python",
   "nbconvert_exporter": "python",
   "pygments_lexer": "ipython2",
   "version": "2.7.6"
  }
 },
 "nbformat": 4,
 "nbformat_minor": 5
}
