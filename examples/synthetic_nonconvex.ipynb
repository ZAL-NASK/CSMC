{
 "cells": [
  {
   "metadata": {
    "ExecuteTime": {
     "end_time": "2025-09-24T16:14:19.750879Z",
     "start_time": "2025-09-24T16:14:17.551884Z"
    }
   },
   "cell_type": "code",
   "source": [
    "import numpy as np\n",
    "\n",
    "from csmc.errors.errors import approx_err\n",
    "from tests.data_generation import create_rank_k_dataset, set_seed\n",
    "\n",
    "set_seed(42)\n",
    "\n",
    "n_rows = 300\n",
    "n_cols = 1000\n",
    "rank = 10\n",
    "eta = 0.1\n",
    "M, M_incomplete_tmp, omega, ok_mask = create_rank_k_dataset(n_rows=n_rows, n_cols=n_cols, k=rank,\n",
    "                                                            gaussian=True,\n",
    "                                                            fraction_missing=0.8)\n",
    "\n"
   ],
   "id": "b486d620264904e9",
   "outputs": [],
   "execution_count": 1
  },
  {
   "metadata": {
    "ExecuteTime": {
     "end_time": "2025-09-24T16:14:26.624619Z",
     "start_time": "2025-09-24T16:14:22.025355Z"
    }
   },
   "cell_type": "code",
   "source": [
    "M_incomplete = np.copy(M_incomplete_tmp)\n",
    "from csmc.mc_sota.sgd import SGD\n",
    "\n",
    "solver = SGD(M_incomplete, stepsize=eta, rank=9)\n",
    "M_filled = solver.fit_transform(M_incomplete)\n",
    "approx_err(M_filled, M)"
   ],
   "id": "7e15d90156a933f0",
   "outputs": [
    {
     "data": {
      "text/plain": [
       "0.26780735367793357"
      ]
     },
     "execution_count": 2,
     "metadata": {},
     "output_type": "execute_result"
    }
   ],
   "execution_count": 2
  },
  {
   "metadata": {
    "ExecuteTime": {
     "end_time": "2025-09-24T08:46:32.178116Z",
     "start_time": "2025-09-24T08:43:08.852242Z"
    }
   },
   "cell_type": "code",
   "source": [
    "from fancyimpute import MatrixFactorization\n",
    "\n",
    "M_incomplete = np.copy(M_incomplete_tmp)\n",
    "solver = MatrixFactorization(rank=rank, max_iters=100, shrinkage_value=0.001)\n",
    "M_filled = solver.fit_transform(M_incomplete)\n",
    "approx_err(M_filled, M)"
   ],
   "id": "c4a0472bd8870a1d",
   "outputs": [
    {
     "name": "stderr",
     "output_type": "stream",
     "text": [
      "/home/tosia/.cache/pypoetry/virtualenvs/csmc-d3xe3skf-py3.10/lib/python3.10/site-packages/sklearn/utils/deprecation.py:132: FutureWarning: 'force_all_finite' was renamed to 'ensure_all_finite' in 1.6 and will be removed in 1.8.\n",
      "  warnings.warn(\n",
      "/home/tosia/.cache/pypoetry/virtualenvs/csmc-d3xe3skf-py3.10/lib/python3.10/site-packages/sklearn/utils/deprecation.py:132: FutureWarning: 'force_all_finite' was renamed to 'ensure_all_finite' in 1.6 and will be removed in 1.8.\n",
      "  warnings.warn(\n",
      "/home/tosia/.cache/pypoetry/virtualenvs/csmc-d3xe3skf-py3.10/lib/python3.10/site-packages/sklearn/utils/deprecation.py:132: FutureWarning: 'force_all_finite' was renamed to 'ensure_all_finite' in 1.6 and will be removed in 1.8.\n",
      "  warnings.warn(\n"
     ]
    },
    {
     "name": "stdout",
     "output_type": "stream",
     "text": [
      "[MatrixFactorization] Iter 10: observed MAE=0.114123 rank=10\n",
      "[MatrixFactorization] Iter 20: observed MAE=0.005310 rank=10\n",
      "[MatrixFactorization] Iter 30: observed MAE=0.003034 rank=10\n",
      "[MatrixFactorization] Iter 40: observed MAE=0.002960 rank=10\n",
      "[MatrixFactorization] Iter 50: observed MAE=0.002937 rank=10\n",
      "[MatrixFactorization] Iter 60: observed MAE=0.002931 rank=10\n",
      "[MatrixFactorization] Iter 70: observed MAE=0.002926 rank=10\n",
      "[MatrixFactorization] Iter 80: observed MAE=0.002917 rank=10\n",
      "[MatrixFactorization] Iter 90: observed MAE=0.002917 rank=10\n",
      "[MatrixFactorization] Iter 100: observed MAE=0.002921 rank=10\n"
     ]
    },
    {
     "data": {
      "text/plain": [
       "0.0014712741694048613"
      ]
     },
     "execution_count": 3,
     "metadata": {},
     "output_type": "execute_result"
    }
   ],
   "execution_count": 3
  },
  {
   "metadata": {
    "ExecuteTime": {
     "end_time": "2025-09-24T08:46:41.434723Z",
     "start_time": "2025-09-24T08:46:32.315021Z"
    }
   },
   "cell_type": "code",
   "source": "",
   "id": "60791290ae10e396",
   "outputs": [
    {
     "name": "stderr",
     "output_type": "stream",
     "text": [
      "/home/tosia/CSMC/src/csmc/mc_sota/gd.py:47: RuntimeWarning: overflow encountered in matmul\n",
      "  R = R - (self.stepsize / p) * Z.T @ L\n",
      "/home/tosia/CSMC/src/csmc/mc_sota/gd.py:42: RuntimeWarning: invalid value encountered in matmul\n",
      "  X_init = L @ R.T\n",
      "/home/tosia/CSMC/src/csmc/mc_sota/gd.py:43: RuntimeWarning: invalid value encountered in multiply\n",
      "  Z = np.multiply(~missing_mask, X_init - X)\n"
     ]
    },
    {
     "data": {
      "text/plain": [
       "nan"
      ]
     },
     "execution_count": 4,
     "metadata": {},
     "output_type": "execute_result"
    }
   ],
   "execution_count": 4
  }
 ],
 "metadata": {
  "kernelspec": {
   "display_name": "Python 3",
   "language": "python",
   "name": "python3"
  },
  "language_info": {
   "codemirror_mode": {
    "name": "ipython",
    "version": 2
   },
   "file_extension": ".py",
   "mimetype": "text/x-python",
   "name": "python",
   "nbconvert_exporter": "python",
   "pygments_lexer": "ipython2",
   "version": "2.7.6"
  }
 },
 "nbformat": 4,
 "nbformat_minor": 5
}
