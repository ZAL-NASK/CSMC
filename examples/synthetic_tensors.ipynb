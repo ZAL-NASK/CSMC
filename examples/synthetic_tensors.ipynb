{
 "cells": [
  {
   "cell_type": "code",
   "execution_count": 15,
   "id": "initial_id",
   "metadata": {
    "collapsed": true,
    "ExecuteTime": {
     "end_time": "2024-02-28T10:14:27.709357260Z",
     "start_time": "2024-02-28T10:14:27.631928192Z"
    }
   },
   "outputs": [],
   "source": [
    "from tests.data_generation import create_rank_k_tensor\n",
    "from csmc import CSMC, SoftImpute\n",
    "from csmc.errors.errors import approx_err\n",
    "import torch\n",
    "n_rows = 1000\n",
    "n_cols = 3000\n",
    "rank = 10\n",
    "M, M_incomplete, omega, ok_mask = create_rank_k_tensor(n_rows=n_rows, n_cols=n_cols, k=rank,\n",
    "                                                        fraction_missing=0.8)"
   ]
  },
  {
   "cell_type": "code",
   "execution_count": 19,
   "outputs": [
    {
     "name": "stdout",
     "output_type": "stream",
     "text": [
      "CPU times: user 35min 56s, sys: 28.6 s, total: 36min 25s\n",
      "Wall time: 4min 56s\n"
     ]
    },
    {
     "data": {
      "text/plain": "0.0013037551"
     },
     "execution_count": 19,
     "metadata": {},
     "output_type": "execute_result"
    }
   ],
   "source": [
    "%%time\n",
    "solver = CSMC(M_incomplete, col_number=1000, solver=SoftImpute, lambda_=1)\n",
    "M_filled = solver.fit_transform(M_incomplete)\n",
    "approx_err(M_filled, M)"
   ],
   "metadata": {
    "collapsed": false,
    "ExecuteTime": {
     "end_time": "2024-02-28T10:51:21.429507701Z",
     "start_time": "2024-02-28T10:46:24.615389662Z"
    }
   },
   "id": "e6d68dbb862c8b77"
  },
  {
   "cell_type": "code",
   "execution_count": 18,
   "outputs": [
    {
     "name": "stdout",
     "output_type": "stream",
     "text": [
      "CPU times: user 1h 50min 10s, sys: 5min 10s, total: 1h 55min 21s\n",
      "Wall time: 16min 13s\n"
     ]
    },
    {
     "data": {
      "text/plain": "0.0028628868"
     },
     "execution_count": 18,
     "metadata": {},
     "output_type": "execute_result"
    }
   ],
   "source": [
    "%%time\n",
    "solver = SoftImpute(M_incomplete, lambda_=1)\n",
    "missing_mask = torch.isnan(M_incomplete)\n",
    "M_filled = solver.fit_transform(M_incomplete, missing_mask)\n",
    "approx_err(M_filled, M)"
   ],
   "metadata": {
    "collapsed": false,
    "ExecuteTime": {
     "end_time": "2024-02-28T10:45:34.478912764Z",
     "start_time": "2024-02-28T10:29:21.132764500Z"
    }
   },
   "id": "ad298cb004d6915c"
  },
  {
   "cell_type": "code",
   "execution_count": null,
   "outputs": [],
   "source": [],
   "metadata": {
    "collapsed": false
   },
   "id": "db8d61b02b9559a"
  }
 ],
 "metadata": {
  "kernelspec": {
   "display_name": "Python 3",
   "language": "python",
   "name": "python3"
  },
  "language_info": {
   "codemirror_mode": {
    "name": "ipython",
    "version": 2
   },
   "file_extension": ".py",
   "mimetype": "text/x-python",
   "name": "python",
   "nbconvert_exporter": "python",
   "pygments_lexer": "ipython2",
   "version": "2.7.6"
  }
 },
 "nbformat": 4,
 "nbformat_minor": 5
}
