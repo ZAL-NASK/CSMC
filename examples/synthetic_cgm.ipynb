{
 "cells": [
  {
   "cell_type": "markdown",
   "source": [
    "CGM usage on the randomly generated matrices."
   ],
   "metadata": {
    "collapsed": false
   },
   "id": "d644eb264234fd0b"
  },
  {
   "cell_type": "markdown",
   "source": [],
   "metadata": {
    "collapsed": false
   },
   "id": "466e25634e3c8edc"
  },
  {
   "cell_type": "code",
   "execution_count": 1,
   "outputs": [],
   "source": [
    "from tests.data_generation import create_rank_k_dataset, create_rank_k_tensor\n",
    "from csmc.errors.errors import approx_err\n",
    "from csmc import CGM\n",
    "import math\n",
    "import numpy as np\n",
    "\n",
    "n_rows = 360\n",
    "n_cols = 640\n",
    "rank = 5\n",
    "M, M_incomplete, omega, ok_mask = create_rank_k_dataset(n_rows=n_rows, n_cols=n_cols, k=rank,\n",
    "                                                        gaussian=True,\n",
    "                                                        fraction_missing=0.8)"
   ],
   "metadata": {
    "collapsed": true,
    "ExecuteTime": {
     "end_time": "2024-06-06T10:09:42.345876658Z",
     "start_time": "2024-06-06T10:09:40.902736973Z"
    }
   },
   "id": "initial_id"
  },
  {
   "cell_type": "code",
   "execution_count": 2,
   "outputs": [
    {
     "data": {
      "text/plain": "0.003097623634487674"
     },
     "execution_count": 2,
     "metadata": {},
     "output_type": "execute_result"
    }
   ],
   "source": [
    "#sanity check\n",
    "lam = math.ceil(np.linalg.norm(M, \"nuc\"))\n",
    "solver = CGM(M_incomplete, lambda_=lam, max_iter=5000)\n",
    "M_filled = solver.fit_transform(M_incomplete, np.isnan(M_incomplete))\n",
    "approx_err(M_filled, M)"
   ],
   "metadata": {
    "collapsed": false,
    "ExecuteTime": {
     "end_time": "2024-06-06T10:10:41.152962336Z",
     "start_time": "2024-06-06T10:09:44.606511399Z"
    }
   },
   "id": "5d769f529963ef27"
  },
  {
   "cell_type": "code",
   "execution_count": 3,
   "outputs": [],
   "source": [
    "n_rows = 360\n",
    "n_cols = 640\n",
    "rank = 5\n",
    "M, M_incomplete, omega, ok_mask = create_rank_k_tensor(n_rows=n_rows, n_cols=n_cols, k=rank,\n",
    "                                                        fraction_missing=0.8)"
   ],
   "metadata": {
    "collapsed": false,
    "ExecuteTime": {
     "end_time": "2024-06-06T10:12:11.793436273Z",
     "start_time": "2024-06-06T10:12:11.668751304Z"
    }
   },
   "id": "68a60ed5a0527b35"
  },
  {
   "cell_type": "code",
   "execution_count": 4,
   "outputs": [
    {
     "data": {
      "text/plain": "0.003042684"
     },
     "execution_count": 4,
     "metadata": {},
     "output_type": "execute_result"
    }
   ],
   "source": [
    "import torch\n",
    "\n",
    "#sanity check\n",
    "lam = math.ceil(torch.norm(M, \"nuc\"))\n",
    "solver = CGM(M_incomplete, lambda_=lam, max_iter=5000)\n",
    "M_filled = solver.fit_transform(M_incomplete, torch.isnan(M_incomplete))\n",
    "approx_err(M_filled, M)"
   ],
   "metadata": {
    "collapsed": false,
    "ExecuteTime": {
     "end_time": "2024-06-06T10:13:09.179102523Z",
     "start_time": "2024-06-06T10:12:12.955402224Z"
    }
   },
   "id": "1a0e847879ed4dfc"
  }
 ],
 "metadata": {
  "kernelspec": {
   "display_name": "Python 3",
   "language": "python",
   "name": "python3"
  },
  "language_info": {
   "codemirror_mode": {
    "name": "ipython",
    "version": 2
   },
   "file_extension": ".py",
   "mimetype": "text/x-python",
   "name": "python",
   "nbconvert_exporter": "python",
   "pygments_lexer": "ipython2",
   "version": "2.7.6"
  }
 },
 "nbformat": 4,
 "nbformat_minor": 5
}
